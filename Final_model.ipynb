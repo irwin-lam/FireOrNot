{
 "cells": [
  {
   "cell_type": "markdown",
   "metadata": {},
   "source": [
    "# Fire or Not  \n",
    "<hr style=\"border:2px solid magenta\"> "
   ]
  },
  {
   "cell_type": "markdown",
   "metadata": {},
   "source": [
    "**Description** \n",
    "* Forest, shrubland, and grasslands are important resources, both environmentally and economically. Although wildfires are natural and vital for the health of these ecosystems. Multiple studies have found that climate change has already led to an increase in wildfire season length, wildfire frequency, and burned area. Some important factors are warmer springs, longer summer dry seasons, and the severity of fires through incresaed temperatures and drought. With warmer weathers, melting and reduced snowcaps result in a decreased water availablity during hot summer conditions. This results in the fires to start more easily and burn hotter due to the lack of moisture.\n",
    "\n",
    "* Wildfires are deadly once they start to grow. Combatting these wildfires are incredibly dangerous. In the United States alone, every year more than $1 billion is used to fight wildfires. In 2020, United States spent $2.3 billion dollars. The fires themselves also cause havoc to the surrounding area as well with the smoke they produced which is linked with poor air quality that can lead to significant health effects.\n",
    "\n",
    "**Objective**\n",
    "* Since the US spends a lot of resources to combat fires, my objective is to create a model that can detect if there is a wildfire in the image. Since this is the early stages of the model, I will aim towards building a model that can predict accuractely on static images. Utilizing a model, we can detect fires before they get too large and respond to the fires to save money, lives and trauma from citizens and wildlife. \n",
    "\n",
    "**Methodology**\n",
    "* Using a Convolutional Neural Network for wildfire detection. The architecture was designed usign Keras API and was implemented using Python, Tensorflow.  \n",
    "\n",
    "**Data**\n",
    "* The dataset was provided by Kaggle: [Wildfire Prediction Dataset (Satellite Images)](https://www.kaggle.com/datasets/abdelghaniaaba/wildfire-prediction-dataset/data). It has been divided into three directories: test, train, and validation. The file name are the coordinates of the wildfire location."
   ]
  },
  {
   "cell_type": "markdown",
   "metadata": {},
   "source": [
    "### Imports  \n",
    "<hr style=\"border:2px solid magenta\"> "
   ]
  },
  {
   "cell_type": "code",
   "execution_count": 1,
   "metadata": {},
   "outputs": [],
   "source": [
    "import tensorflow as tf\n",
    "import datetime\n",
    "\n",
    "from pathlib import Path\n",
    "from tensorflow.keras.preprocessing.image import ImageDataGenerator\n",
    "\n",
    "\n",
    "from src.extract_to_df import extract_to_df\n",
    "from src.build_models import create_cnn4\n",
    "from src.metric_notes import metric_note\n",
    "\n",
    "#prevent a bug that some images are truncated\n",
    "from PIL import ImageFile\n",
    "ImageFile.LOAD_TRUNCATED_IMAGES = True"
   ]
  },
  {
   "cell_type": "markdown",
   "metadata": {},
   "source": [
    "### Extracting data  \n",
    "<hr style=\"border:2px solid magenta\"> \n",
    "\n",
    "Using a helper function found in [extract_to_df](https://github.com/irwin-lam/FireOrNot/blob/main/src/extract_to_df.py) to create dataframes for the files to be used in the train_generator.flow_from_dataframe. I want it to be in rgb to provide more details of the images. The data is a 70/15/15 split.   \n",
    "\n",
    "I also implemented data augmentation to prevent overfitting.  \n",
    "\n",
    "I defined a pixel which is the length of the image. This can be changed to fit new data if we want the model to pick up more details of the image.  \n"
   ]
  },
  {
   "cell_type": "code",
   "execution_count": 2,
   "metadata": {},
   "outputs": [
    {
     "name": "stdout",
     "output_type": "stream",
     "text": [
      "Found 30250 validated image filenames belonging to 2 classes.\n",
      "Found 6300 validated image filenames belonging to 2 classes.\n",
      "Found 6300 validated image filenames belonging to 2 classes.\n"
     ]
    }
   ],
   "source": [
    "test = Path('Data/test')\n",
    "train = Path('Data/train')\n",
    "valid = Path('Data/valid')\n",
    "train_df = extract_to_df(train, 'Train')\n",
    "test_df = extract_to_df(test, 'Test')\n",
    "val_df = extract_to_df(valid,'Valid')\n",
    "pixel = 224\n",
    "size = f'{pixel}x{pixel}'\n",
    "\n",
    "train_generator = ImageDataGenerator(\n",
    "    rescale=1./255,\n",
    "    width_shift_range = 0.2, \n",
    "    height_shift_range = 0.2,\n",
    "    horizontal_flip = True, \n",
    "    vertical_flip = True\n",
    ")\n",
    "\n",
    "test_generator = ImageDataGenerator(\n",
    "    rescale = 1./255\n",
    ")\n",
    "\n",
    "train_images = train_generator.flow_from_dataframe(dataframe=train_df,\n",
    "                                                 x_col = 'Path',\n",
    "                                                 y_col = 'Label',                           \n",
    "                                                 target_size = (pixel,pixel),\n",
    "                                                 class_mode = 'binary',\n",
    "                                                 color_mode = 'rgb',\n",
    "                                                 shuffle = True,\n",
    "                                                 seed = 42,\n",
    "                                                 batch_size = 128)\n",
    "\n",
    "valid_images = train_generator.flow_from_dataframe(dataframe=val_df,\n",
    "                                                 x_col = 'Path',\n",
    "                                                 y_col = 'Label',                           \n",
    "                                                 target_size=(pixel,pixel),\n",
    "                                                 class_mode = 'binary',\n",
    "                                                 color_mode = 'rgb',\n",
    "                                                 shuffle = True,\n",
    "                                                 seed = 42,\n",
    "                                                 batch_size = 64)\n",
    "\n",
    "test_images = test_generator.flow_from_dataframe(dataframe=test_df,\n",
    "                                                 x_col='Path',\n",
    "                                                 y_col='Label',\n",
    "                                                 target_size=(pixel,pixel),\n",
    "                                                 class_mode='binary',\n",
    "                                                 color_mode='rgb',\n",
    "                                                 shuffle=True,\n",
    "                                                 seed=42,\n",
    "                                                 batch_size=128)"
   ]
  },
  {
   "cell_type": "markdown",
   "metadata": {},
   "source": [
    "We have about 43,000 images!"
   ]
  },
  {
   "cell_type": "markdown",
   "metadata": {},
   "source": [
    "Creating a metrics to keep track of the evaluations of the model, which can be see [here](https://github.com/irwin-lam/FireOrNot/blob/main/src/metric_notes.py)"
   ]
  },
  {
   "cell_type": "code",
   "execution_count": 3,
   "metadata": {},
   "outputs": [],
   "source": [
    "metrics = metric_note(train_images, test_images, valid_images)"
   ]
  },
  {
   "cell_type": "markdown",
   "metadata": {},
   "source": [
    "### Final Model\n",
    "<hr style=\"border:2px solid magenta\"> "
   ]
  },
  {
   "cell_type": "markdown",
   "metadata": {},
   "source": [
    "Creating a quick function to create a log_dir for a tensorboard callback. "
   ]
  },
  {
   "cell_type": "code",
   "execution_count": 4,
   "metadata": {},
   "outputs": [],
   "source": [
    "def create_log_path(name):\n",
    "    log_dir = \"logs/fit/\" + f'{name}/' + datetime.datetime.now().strftime(\"%Y%m%d-%H%M%S\")\n",
    "    return log_dir\n",
    "    \n",
    "early_stop = tf.keras.callbacks.EarlyStopping(\n",
    "            monitor='val_loss',\n",
    "            patience=20,\n",
    "            restore_best_weights=True)"
   ]
  },
  {
   "cell_type": "markdown",
   "metadata": {},
   "source": [
    "<hr style=\"border:2px solid blue\">  \n",
    "\n",
    "Using [create_cnn4](https://github.com/irwin-lam/FireOrNot/blob/main/src/build_models.py) to build the final model. This model has 4 layers. Each with a Conv2d, MaxPooling, BatchNormalization, and Dropout. After flattening, it contains 2 dense layers and batchNormalization. "
   ]
  },
  {
   "cell_type": "code",
   "execution_count": 5,
   "metadata": {},
   "outputs": [
    {
     "name": "stdout",
     "output_type": "stream",
     "text": [
      "Epoch 1/1000\n",
      "237/237 [==============================] - 87s 334ms/step - loss: 0.2044 - accuracy: 0.9207 - true_positives: 14842.0000 - true_negatives: 13009.0000 - false_positives: 1491.0000 - false_negatives: 908.0000 - val_loss: 1.9156 - val_accuracy: 0.5524 - val_true_positives: 3480.0000 - val_true_negatives: 0.0000e+00 - val_false_positives: 2820.0000 - val_false_negatives: 0.0000e+00\n",
      "Epoch 2/1000\n",
      "237/237 [==============================] - 74s 303ms/step - loss: 0.1438 - accuracy: 0.9436 - true_positives: 15025.0000 - true_negatives: 13520.0000 - false_positives: 980.0000 - false_negatives: 725.0000 - val_loss: 1.1535 - val_accuracy: 0.6733 - val_true_positives: 3480.0000 - val_true_negatives: 762.0000 - val_false_positives: 2058.0000 - val_false_negatives: 0.0000e+00\n",
      "Epoch 3/1000\n",
      "237/237 [==============================] - 72s 295ms/step - loss: 0.1307 - accuracy: 0.9496 - true_positives: 15075.0000 - true_negatives: 13651.0000 - false_positives: 849.0000 - false_negatives: 675.0000 - val_loss: 0.3781 - val_accuracy: 0.8733 - val_true_positives: 3470.0000 - val_true_negatives: 2032.0000 - val_false_positives: 788.0000 - val_false_negatives: 10.0000\n",
      "Epoch 4/1000\n",
      "237/237 [==============================] - 72s 294ms/step - loss: 0.1208 - accuracy: 0.9528 - true_positives: 15106.0000 - true_negatives: 13716.0000 - false_positives: 784.0000 - false_negatives: 644.0000 - val_loss: 0.1297 - val_accuracy: 0.9552 - val_true_positives: 3377.0000 - val_true_negatives: 2641.0000 - val_false_positives: 179.0000 - val_false_negatives: 103.0000\n",
      "Epoch 5/1000\n",
      "237/237 [==============================] - 71s 294ms/step - loss: 0.1099 - accuracy: 0.9586 - true_positives: 15199.0000 - true_negatives: 13799.0000 - false_positives: 701.0000 - false_negatives: 551.0000 - val_loss: 0.2430 - val_accuracy: 0.9106 - val_true_positives: 3469.0000 - val_true_negatives: 2268.0000 - val_false_positives: 552.0000 - val_false_negatives: 11.0000\n",
      "Epoch 6/1000\n",
      "237/237 [==============================] - 71s 293ms/step - loss: 0.1024 - accuracy: 0.9616 - true_positives: 15223.0000 - true_negatives: 13864.0000 - false_positives: 636.0000 - false_negatives: 527.0000 - val_loss: 0.1162 - val_accuracy: 0.9557 - val_true_positives: 3293.0000 - val_true_negatives: 2728.0000 - val_false_positives: 92.0000 - val_false_negatives: 187.0000\n",
      "Epoch 7/1000\n",
      "237/237 [==============================] - 74s 303ms/step - loss: 0.1006 - accuracy: 0.9614 - true_positives: 15233.0000 - true_negatives: 13849.0000 - false_positives: 651.0000 - false_negatives: 517.0000 - val_loss: 0.1971 - val_accuracy: 0.9176 - val_true_positives: 3003.0000 - val_true_negatives: 2778.0000 - val_false_positives: 42.0000 - val_false_negatives: 477.0000\n",
      "Epoch 8/1000\n",
      "237/237 [==============================] - 78s 321ms/step - loss: 0.0963 - accuracy: 0.9634 - true_positives: 15258.0000 - true_negatives: 13886.0000 - false_positives: 614.0000 - false_negatives: 492.0000 - val_loss: 0.0891 - val_accuracy: 0.9670 - val_true_positives: 3317.0000 - val_true_negatives: 2775.0000 - val_false_positives: 45.0000 - val_false_negatives: 163.0000\n",
      "Epoch 9/1000\n",
      "237/237 [==============================] - 78s 319ms/step - loss: 0.0888 - accuracy: 0.9674 - true_positives: 15302.0000 - true_negatives: 13961.0000 - false_positives: 539.0000 - false_negatives: 448.0000 - val_loss: 0.2358 - val_accuracy: 0.9121 - val_true_positives: 2953.0000 - val_true_negatives: 2793.0000 - val_false_positives: 27.0000 - val_false_negatives: 527.0000\n",
      "Epoch 10/1000\n",
      "237/237 [==============================] - 77s 319ms/step - loss: 0.0885 - accuracy: 0.9669 - true_positives: 15296.0000 - true_negatives: 13954.0000 - false_positives: 546.0000 - false_negatives: 454.0000 - val_loss: 0.2247 - val_accuracy: 0.9252 - val_true_positives: 3455.0000 - val_true_negatives: 2374.0000 - val_false_positives: 446.0000 - val_false_negatives: 25.0000\n",
      "Epoch 11/1000\n",
      "237/237 [==============================] - 78s 320ms/step - loss: 0.0836 - accuracy: 0.9672 - true_positives: 15317.0000 - true_negatives: 13942.0000 - false_positives: 558.0000 - false_negatives: 433.0000 - val_loss: 0.3632 - val_accuracy: 0.8946 - val_true_positives: 3472.0000 - val_true_negatives: 2164.0000 - val_false_positives: 656.0000 - val_false_negatives: 8.0000\n",
      "Epoch 12/1000\n",
      "237/237 [==============================] - 79s 323ms/step - loss: 0.0786 - accuracy: 0.9700 - true_positives: 15328.0000 - true_negatives: 14014.0000 - false_positives: 486.0000 - false_negatives: 422.0000 - val_loss: 0.0884 - val_accuracy: 0.9687 - val_true_positives: 3381.0000 - val_true_negatives: 2722.0000 - val_false_positives: 98.0000 - val_false_negatives: 99.0000\n",
      "Epoch 13/1000\n",
      "237/237 [==============================] - 78s 322ms/step - loss: 0.0730 - accuracy: 0.9725 - true_positives: 15381.0000 - true_negatives: 14038.0000 - false_positives: 462.0000 - false_negatives: 369.0000 - val_loss: 0.0913 - val_accuracy: 0.9657 - val_true_positives: 3385.0000 - val_true_negatives: 2699.0000 - val_false_positives: 121.0000 - val_false_negatives: 95.0000\n",
      "Epoch 14/1000\n",
      "237/237 [==============================] - 78s 320ms/step - loss: 0.0768 - accuracy: 0.9713 - true_positives: 15355.0000 - true_negatives: 14028.0000 - false_positives: 472.0000 - false_negatives: 395.0000 - val_loss: 0.1842 - val_accuracy: 0.9270 - val_true_positives: 3249.0000 - val_true_negatives: 2591.0000 - val_false_positives: 229.0000 - val_false_negatives: 231.0000\n",
      "Epoch 15/1000\n",
      "237/237 [==============================] - 78s 320ms/step - loss: 0.0718 - accuracy: 0.9728 - true_positives: 15378.0000 - true_negatives: 14048.0000 - false_positives: 452.0000 - false_negatives: 372.0000 - val_loss: 0.0951 - val_accuracy: 0.9654 - val_true_positives: 3442.0000 - val_true_negatives: 2640.0000 - val_false_positives: 180.0000 - val_false_negatives: 38.0000\n",
      "Epoch 16/1000\n",
      "237/237 [==============================] - 79s 325ms/step - loss: 0.0683 - accuracy: 0.9738 - true_positives: 15395.0000 - true_negatives: 14061.0000 - false_positives: 439.0000 - false_negatives: 355.0000 - val_loss: 0.0938 - val_accuracy: 0.9649 - val_true_positives: 3337.0000 - val_true_negatives: 2742.0000 - val_false_positives: 78.0000 - val_false_negatives: 143.0000\n",
      "Epoch 17/1000\n",
      "237/237 [==============================] - 78s 322ms/step - loss: 0.0649 - accuracy: 0.9751 - true_positives: 15395.0000 - true_negatives: 14102.0000 - false_positives: 398.0000 - false_negatives: 355.0000 - val_loss: 0.2196 - val_accuracy: 0.9106 - val_true_positives: 3324.0000 - val_true_negatives: 2413.0000 - val_false_positives: 407.0000 - val_false_negatives: 156.0000\n",
      "Epoch 18/1000\n",
      "237/237 [==============================] - 76s 311ms/step - loss: 0.0676 - accuracy: 0.9751 - true_positives: 15410.0000 - true_negatives: 14088.0000 - false_positives: 412.0000 - false_negatives: 340.0000 - val_loss: 0.2074 - val_accuracy: 0.9237 - val_true_positives: 3096.0000 - val_true_negatives: 2723.0000 - val_false_positives: 97.0000 - val_false_negatives: 384.0000\n",
      "Epoch 19/1000\n",
      "237/237 [==============================] - 83s 342ms/step - loss: 0.0609 - accuracy: 0.9771 - true_positives: 15427.0000 - true_negatives: 14130.0000 - false_positives: 370.0000 - false_negatives: 323.0000 - val_loss: 0.0646 - val_accuracy: 0.9773 - val_true_positives: 3418.0000 - val_true_negatives: 2739.0000 - val_false_positives: 81.0000 - val_false_negatives: 62.0000\n",
      "Epoch 20/1000\n",
      "237/237 [==============================] - 82s 339ms/step - loss: 0.0615 - accuracy: 0.9763 - true_positives: 15406.0000 - true_negatives: 14126.0000 - false_positives: 374.0000 - false_negatives: 344.0000 - val_loss: 0.0584 - val_accuracy: 0.9810 - val_true_positives: 3416.0000 - val_true_negatives: 2764.0000 - val_false_positives: 56.0000 - val_false_negatives: 64.0000\n",
      "Epoch 21/1000\n",
      "237/237 [==============================] - 86s 353ms/step - loss: 0.0574 - accuracy: 0.9789 - true_positives: 15455.0000 - true_negatives: 14156.0000 - false_positives: 344.0000 - false_negatives: 295.0000 - val_loss: 0.2080 - val_accuracy: 0.9152 - val_true_positives: 2977.0000 - val_true_negatives: 2789.0000 - val_false_positives: 31.0000 - val_false_negatives: 503.0000\n",
      "Epoch 22/1000\n",
      "237/237 [==============================] - 91s 372ms/step - loss: 0.0583 - accuracy: 0.9789 - true_positives: 15455.0000 - true_negatives: 14157.0000 - false_positives: 343.0000 - false_negatives: 295.0000 - val_loss: 0.0634 - val_accuracy: 0.9767 - val_true_positives: 3416.0000 - val_true_negatives: 2737.0000 - val_false_positives: 83.0000 - val_false_negatives: 64.0000\n",
      "Epoch 23/1000\n",
      "237/237 [==============================] - 77s 318ms/step - loss: 0.0536 - accuracy: 0.9806 - true_positives: 15476.0000 - true_negatives: 14187.0000 - false_positives: 313.0000 - false_negatives: 274.0000 - val_loss: 0.0922 - val_accuracy: 0.9668 - val_true_positives: 3321.0000 - val_true_negatives: 2770.0000 - val_false_positives: 50.0000 - val_false_negatives: 159.0000\n",
      "Epoch 24/1000\n",
      "237/237 [==============================] - 77s 318ms/step - loss: 0.0561 - accuracy: 0.9793 - true_positives: 15471.0000 - true_negatives: 14152.0000 - false_positives: 348.0000 - false_negatives: 279.0000 - val_loss: 0.0629 - val_accuracy: 0.9775 - val_true_positives: 3440.0000 - val_true_negatives: 2718.0000 - val_false_positives: 102.0000 - val_false_negatives: 40.0000\n",
      "Epoch 25/1000\n",
      "237/237 [==============================] - 78s 320ms/step - loss: 0.0532 - accuracy: 0.9802 - true_positives: 15469.0000 - true_negatives: 14182.0000 - false_positives: 318.0000 - false_negatives: 281.0000 - val_loss: 0.2189 - val_accuracy: 0.9081 - val_true_positives: 3186.0000 - val_true_negatives: 2535.0000 - val_false_positives: 285.0000 - val_false_negatives: 294.0000\n",
      "Epoch 26/1000\n",
      "237/237 [==============================] - 78s 321ms/step - loss: 0.0485 - accuracy: 0.9819 - true_positives: 15488.0000 - true_negatives: 14215.0000 - false_positives: 285.0000 - false_negatives: 262.0000 - val_loss: 0.1590 - val_accuracy: 0.9513 - val_true_positives: 3459.0000 - val_true_negatives: 2534.0000 - val_false_positives: 286.0000 - val_false_negatives: 21.0000\n",
      "Epoch 27/1000\n",
      "237/237 [==============================] - 78s 322ms/step - loss: 0.0496 - accuracy: 0.9820 - true_positives: 15505.0000 - true_negatives: 14199.0000 - false_positives: 301.0000 - false_negatives: 245.0000 - val_loss: 0.0926 - val_accuracy: 0.9649 - val_true_positives: 3322.0000 - val_true_negatives: 2757.0000 - val_false_positives: 63.0000 - val_false_negatives: 158.0000\n",
      "Epoch 28/1000\n",
      "237/237 [==============================] - 78s 320ms/step - loss: 0.0487 - accuracy: 0.9819 - true_positives: 15485.0000 - true_negatives: 14216.0000 - false_positives: 284.0000 - false_negatives: 265.0000 - val_loss: 0.0973 - val_accuracy: 0.9644 - val_true_positives: 3444.0000 - val_true_negatives: 2632.0000 - val_false_positives: 188.0000 - val_false_negatives: 36.0000\n",
      "Epoch 29/1000\n",
      "237/237 [==============================] - 77s 319ms/step - loss: 0.0459 - accuracy: 0.9833 - true_positives: 15509.0000 - true_negatives: 14235.0000 - false_positives: 265.0000 - false_negatives: 241.0000 - val_loss: 0.0502 - val_accuracy: 0.9817 - val_true_positives: 3444.0000 - val_true_negatives: 2741.0000 - val_false_positives: 79.0000 - val_false_negatives: 36.0000\n",
      "Epoch 30/1000\n",
      "237/237 [==============================] - 78s 321ms/step - loss: 0.0437 - accuracy: 0.9845 - true_positives: 15519.0000 - true_negatives: 14263.0000 - false_positives: 237.0000 - false_negatives: 231.0000 - val_loss: 0.0923 - val_accuracy: 0.9681 - val_true_positives: 3340.0000 - val_true_negatives: 2759.0000 - val_false_positives: 61.0000 - val_false_negatives: 140.0000\n",
      "Epoch 31/1000\n",
      "237/237 [==============================] - 78s 320ms/step - loss: 0.0444 - accuracy: 0.9839 - true_positives: 15526.0000 - true_negatives: 14238.0000 - false_positives: 262.0000 - false_negatives: 224.0000 - val_loss: 0.1220 - val_accuracy: 0.9538 - val_true_positives: 3304.0000 - val_true_negatives: 2705.0000 - val_false_positives: 115.0000 - val_false_negatives: 176.0000\n",
      "Epoch 32/1000\n",
      "237/237 [==============================] - 77s 318ms/step - loss: 0.0423 - accuracy: 0.9845 - true_positives: 15522.0000 - true_negatives: 14260.0000 - false_positives: 240.0000 - false_negatives: 228.0000 - val_loss: 0.0543 - val_accuracy: 0.9789 - val_true_positives: 3431.0000 - val_true_negatives: 2736.0000 - val_false_positives: 84.0000 - val_false_negatives: 49.0000\n",
      "Epoch 33/1000\n",
      "237/237 [==============================] - 77s 319ms/step - loss: 0.0415 - accuracy: 0.9849 - true_positives: 15541.0000 - true_negatives: 14252.0000 - false_positives: 248.0000 - false_negatives: 209.0000 - val_loss: 0.0612 - val_accuracy: 0.9778 - val_true_positives: 3370.0000 - val_true_negatives: 2790.0000 - val_false_positives: 30.0000 - val_false_negatives: 110.0000\n",
      "Epoch 34/1000\n",
      "237/237 [==============================] - 78s 322ms/step - loss: 0.0382 - accuracy: 0.9866 - true_positives: 15553.0000 - true_negatives: 14293.0000 - false_positives: 207.0000 - false_negatives: 197.0000 - val_loss: 0.1274 - val_accuracy: 0.9552 - val_true_positives: 3442.0000 - val_true_negatives: 2576.0000 - val_false_positives: 244.0000 - val_false_negatives: 38.0000\n",
      "Epoch 35/1000\n",
      "237/237 [==============================] - 78s 318ms/step - loss: 0.0421 - accuracy: 0.9848 - true_positives: 15536.0000 - true_negatives: 14254.0000 - false_positives: 246.0000 - false_negatives: 214.0000 - val_loss: 0.0805 - val_accuracy: 0.9683 - val_true_positives: 3399.0000 - val_true_negatives: 2701.0000 - val_false_positives: 119.0000 - val_false_negatives: 81.0000\n",
      "Epoch 36/1000\n",
      "237/237 [==============================] - 77s 318ms/step - loss: 0.0409 - accuracy: 0.9847 - true_positives: 15526.0000 - true_negatives: 14260.0000 - false_positives: 240.0000 - false_negatives: 224.0000 - val_loss: 0.0582 - val_accuracy: 0.9789 - val_true_positives: 3448.0000 - val_true_negatives: 2719.0000 - val_false_positives: 101.0000 - val_false_negatives: 32.0000\n",
      "Epoch 37/1000\n",
      "237/237 [==============================] - 77s 319ms/step - loss: 0.0384 - accuracy: 0.9861 - true_positives: 15555.0000 - true_negatives: 14274.0000 - false_positives: 226.0000 - false_negatives: 195.0000 - val_loss: 0.0677 - val_accuracy: 0.9760 - val_true_positives: 3402.0000 - val_true_negatives: 2747.0000 - val_false_positives: 73.0000 - val_false_negatives: 78.0000\n",
      "Epoch 38/1000\n",
      "237/237 [==============================] - 77s 319ms/step - loss: 0.0347 - accuracy: 0.9876 - true_positives: 15572.0000 - true_negatives: 14304.0000 - false_positives: 196.0000 - false_negatives: 178.0000 - val_loss: 0.0511 - val_accuracy: 0.9822 - val_true_positives: 3396.0000 - val_true_negatives: 2792.0000 - val_false_positives: 28.0000 - val_false_negatives: 84.0000\n",
      "Epoch 39/1000\n",
      "237/237 [==============================] - 78s 321ms/step - loss: 0.0362 - accuracy: 0.9867 - true_positives: 15554.0000 - true_negatives: 14295.0000 - false_positives: 205.0000 - false_negatives: 196.0000 - val_loss: 0.1969 - val_accuracy: 0.9386 - val_true_positives: 3462.0000 - val_true_negatives: 2451.0000 - val_false_positives: 369.0000 - val_false_negatives: 18.0000\n",
      "Epoch 40/1000\n",
      "237/237 [==============================] - 78s 320ms/step - loss: 0.0369 - accuracy: 0.9867 - true_positives: 15558.0000 - true_negatives: 14291.0000 - false_positives: 209.0000 - false_negatives: 192.0000 - val_loss: 0.1300 - val_accuracy: 0.9513 - val_true_positives: 3216.0000 - val_true_negatives: 2777.0000 - val_false_positives: 43.0000 - val_false_negatives: 264.0000\n",
      "Epoch 41/1000\n",
      "237/237 [==============================] - 78s 320ms/step - loss: 0.0355 - accuracy: 0.9873 - true_positives: 15565.0000 - true_negatives: 14300.0000 - false_positives: 200.0000 - false_negatives: 185.0000 - val_loss: 0.0484 - val_accuracy: 0.9837 - val_true_positives: 3410.0000 - val_true_negatives: 2787.0000 - val_false_positives: 33.0000 - val_false_negatives: 70.0000\n",
      "Epoch 42/1000\n",
      "237/237 [==============================] - 78s 319ms/step - loss: 0.0389 - accuracy: 0.9857 - true_positives: 15547.0000 - true_negatives: 14271.0000 - false_positives: 229.0000 - false_negatives: 203.0000 - val_loss: 0.0709 - val_accuracy: 0.9738 - val_true_positives: 3381.0000 - val_true_negatives: 2754.0000 - val_false_positives: 66.0000 - val_false_negatives: 99.0000\n",
      "Epoch 43/1000\n",
      "237/237 [==============================] - 77s 319ms/step - loss: 0.0341 - accuracy: 0.9879 - true_positives: 15568.0000 - true_negatives: 14315.0000 - false_positives: 185.0000 - false_negatives: 182.0000 - val_loss: 0.0530 - val_accuracy: 0.9808 - val_true_positives: 3383.0000 - val_true_negatives: 2796.0000 - val_false_positives: 24.0000 - val_false_negatives: 97.0000\n",
      "Epoch 44/1000\n",
      "237/237 [==============================] - 77s 319ms/step - loss: 0.0320 - accuracy: 0.9889 - true_positives: 15589.0000 - true_negatives: 14325.0000 - false_positives: 175.0000 - false_negatives: 161.0000 - val_loss: 0.0809 - val_accuracy: 0.9706 - val_true_positives: 3381.0000 - val_true_negatives: 2734.0000 - val_false_positives: 86.0000 - val_false_negatives: 99.0000\n",
      "Epoch 45/1000\n",
      "237/237 [==============================] - 78s 320ms/step - loss: 0.0326 - accuracy: 0.9878 - true_positives: 15566.0000 - true_negatives: 14315.0000 - false_positives: 185.0000 - false_negatives: 184.0000 - val_loss: 0.1428 - val_accuracy: 0.9475 - val_true_positives: 3191.0000 - val_true_negatives: 2778.0000 - val_false_positives: 42.0000 - val_false_negatives: 289.0000\n",
      "Epoch 46/1000\n",
      "237/237 [==============================] - 79s 326ms/step - loss: 0.0318 - accuracy: 0.9885 - true_positives: 15585.0000 - true_negatives: 14317.0000 - false_positives: 183.0000 - false_negatives: 165.0000 - val_loss: 0.0526 - val_accuracy: 0.9816 - val_true_positives: 3434.0000 - val_true_negatives: 2750.0000 - val_false_positives: 70.0000 - val_false_negatives: 46.0000\n",
      "Epoch 47/1000\n",
      "237/237 [==============================] - 78s 319ms/step - loss: 0.0337 - accuracy: 0.9872 - true_positives: 15560.0000 - true_negatives: 14304.0000 - false_positives: 196.0000 - false_negatives: 190.0000 - val_loss: 0.1084 - val_accuracy: 0.9654 - val_true_positives: 3465.0000 - val_true_negatives: 2617.0000 - val_false_positives: 203.0000 - val_false_negatives: 15.0000\n",
      "Epoch 48/1000\n",
      "237/237 [==============================] - 77s 318ms/step - loss: 0.0310 - accuracy: 0.9888 - true_positives: 15597.0000 - true_negatives: 14315.0000 - false_positives: 185.0000 - false_negatives: 153.0000 - val_loss: 0.1166 - val_accuracy: 0.9548 - val_true_positives: 3232.0000 - val_true_negatives: 2783.0000 - val_false_positives: 37.0000 - val_false_negatives: 248.0000\n",
      "Epoch 49/1000\n",
      "237/237 [==============================] - 77s 317ms/step - loss: 0.0298 - accuracy: 0.9892 - true_positives: 15596.0000 - true_negatives: 14328.0000 - false_positives: 172.0000 - false_negatives: 154.0000 - val_loss: 0.0726 - val_accuracy: 0.9741 - val_true_positives: 3348.0000 - val_true_negatives: 2789.0000 - val_false_positives: 31.0000 - val_false_negatives: 132.0000\n",
      "Epoch 50/1000\n",
      "237/237 [==============================] - 77s 319ms/step - loss: 0.0308 - accuracy: 0.9890 - true_positives: 15579.0000 - true_negatives: 14339.0000 - false_positives: 161.0000 - false_negatives: 171.0000 - val_loss: 0.1076 - val_accuracy: 0.9649 - val_true_positives: 3456.0000 - val_true_negatives: 2623.0000 - val_false_positives: 197.0000 - val_false_negatives: 24.0000\n",
      "Epoch 51/1000\n",
      "237/237 [==============================] - 79s 324ms/step - loss: 0.0284 - accuracy: 0.9899 - true_positives: 15604.0000 - true_negatives: 14340.0000 - false_positives: 160.0000 - false_negatives: 146.0000 - val_loss: 0.0781 - val_accuracy: 0.9732 - val_true_positives: 3465.0000 - val_true_negatives: 2666.0000 - val_false_positives: 154.0000 - val_false_negatives: 15.0000\n",
      "Epoch 52/1000\n",
      "237/237 [==============================] - 78s 322ms/step - loss: 0.0286 - accuracy: 0.9894 - true_positives: 15600.0000 - true_negatives: 14328.0000 - false_positives: 172.0000 - false_negatives: 150.0000 - val_loss: 0.0722 - val_accuracy: 0.9773 - val_true_positives: 3401.0000 - val_true_negatives: 2756.0000 - val_false_positives: 64.0000 - val_false_negatives: 79.0000\n",
      "Epoch 53/1000\n",
      "237/237 [==============================] - 78s 321ms/step - loss: 0.0317 - accuracy: 0.9887 - true_positives: 15589.0000 - true_negatives: 14320.0000 - false_positives: 180.0000 - false_negatives: 161.0000 - val_loss: 0.1510 - val_accuracy: 0.9565 - val_true_positives: 3450.0000 - val_true_negatives: 2576.0000 - val_false_positives: 244.0000 - val_false_negatives: 30.0000\n",
      "Epoch 54/1000\n",
      "237/237 [==============================] - 78s 322ms/step - loss: 0.0304 - accuracy: 0.9885 - true_positives: 15576.0000 - true_negatives: 14325.0000 - false_positives: 175.0000 - false_negatives: 174.0000 - val_loss: 0.0432 - val_accuracy: 0.9846 - val_true_positives: 3433.0000 - val_true_negatives: 2770.0000 - val_false_positives: 50.0000 - val_false_negatives: 47.0000\n",
      "Epoch 55/1000\n",
      "237/237 [==============================] - 77s 318ms/step - loss: 0.0281 - accuracy: 0.9900 - true_positives: 15608.0000 - true_negatives: 14338.0000 - false_positives: 162.0000 - false_negatives: 142.0000 - val_loss: 0.0436 - val_accuracy: 0.9854 - val_true_positives: 3415.0000 - val_true_negatives: 2793.0000 - val_false_positives: 27.0000 - val_false_negatives: 65.0000\n",
      "Epoch 56/1000\n",
      "237/237 [==============================] - 77s 318ms/step - loss: 0.0261 - accuracy: 0.9911 - true_positives: 15618.0000 - true_negatives: 14363.0000 - false_positives: 137.0000 - false_negatives: 132.0000 - val_loss: 0.0620 - val_accuracy: 0.9794 - val_true_positives: 3394.0000 - val_true_negatives: 2776.0000 - val_false_positives: 44.0000 - val_false_negatives: 86.0000\n",
      "Epoch 57/1000\n",
      "237/237 [==============================] - 77s 317ms/step - loss: 0.0288 - accuracy: 0.9890 - true_positives: 15593.0000 - true_negatives: 14323.0000 - false_positives: 177.0000 - false_negatives: 157.0000 - val_loss: 0.0887 - val_accuracy: 0.9729 - val_true_positives: 3462.0000 - val_true_negatives: 2667.0000 - val_false_positives: 153.0000 - val_false_negatives: 18.0000\n",
      "Epoch 58/1000\n",
      "237/237 [==============================] - 77s 318ms/step - loss: 0.0280 - accuracy: 0.9896 - true_positives: 15594.0000 - true_negatives: 14340.0000 - false_positives: 160.0000 - false_negatives: 156.0000 - val_loss: 0.0652 - val_accuracy: 0.9738 - val_true_positives: 3361.0000 - val_true_negatives: 2774.0000 - val_false_positives: 46.0000 - val_false_negatives: 119.0000\n",
      "Epoch 59/1000\n",
      "237/237 [==============================] - 77s 318ms/step - loss: 0.0285 - accuracy: 0.9897 - true_positives: 15590.0000 - true_negatives: 14349.0000 - false_positives: 151.0000 - false_negatives: 160.0000 - val_loss: 0.2235 - val_accuracy: 0.9202 - val_true_positives: 3038.0000 - val_true_negatives: 2759.0000 - val_false_positives: 61.0000 - val_false_negatives: 442.0000\n",
      "Epoch 60/1000\n",
      "237/237 [==============================] - 77s 317ms/step - loss: 0.0256 - accuracy: 0.9904 - true_positives: 15609.0000 - true_negatives: 14350.0000 - false_positives: 150.0000 - false_negatives: 141.0000 - val_loss: 0.0373 - val_accuracy: 0.9876 - val_true_positives: 3459.0000 - val_true_negatives: 2763.0000 - val_false_positives: 57.0000 - val_false_negatives: 21.0000\n",
      "Epoch 61/1000\n",
      "237/237 [==============================] - 78s 319ms/step - loss: 0.0254 - accuracy: 0.9911 - true_positives: 15617.0000 - true_negatives: 14365.0000 - false_positives: 135.0000 - false_negatives: 133.0000 - val_loss: 0.0529 - val_accuracy: 0.9811 - val_true_positives: 3405.0000 - val_true_negatives: 2776.0000 - val_false_positives: 44.0000 - val_false_negatives: 75.0000\n",
      "Epoch 62/1000\n",
      "237/237 [==============================] - 77s 317ms/step - loss: 0.0261 - accuracy: 0.9907 - true_positives: 15614.0000 - true_negatives: 14355.0000 - false_positives: 145.0000 - false_negatives: 136.0000 - val_loss: 0.0616 - val_accuracy: 0.9790 - val_true_positives: 3445.0000 - val_true_negatives: 2723.0000 - val_false_positives: 97.0000 - val_false_negatives: 35.0000\n",
      "Epoch 63/1000\n",
      "237/237 [==============================] - 79s 324ms/step - loss: 0.0239 - accuracy: 0.9917 - true_positives: 15625.0000 - true_negatives: 14375.0000 - false_positives: 125.0000 - false_negatives: 125.0000 - val_loss: 0.0448 - val_accuracy: 0.9821 - val_true_positives: 3442.0000 - val_true_negatives: 2745.0000 - val_false_positives: 75.0000 - val_false_negatives: 38.0000\n",
      "Epoch 64/1000\n",
      "237/237 [==============================] - 77s 318ms/step - loss: 0.0246 - accuracy: 0.9915 - true_positives: 15622.0000 - true_negatives: 14371.0000 - false_positives: 129.0000 - false_negatives: 128.0000 - val_loss: 0.1656 - val_accuracy: 0.9444 - val_true_positives: 3343.0000 - val_true_negatives: 2607.0000 - val_false_positives: 213.0000 - val_false_negatives: 137.0000\n",
      "Epoch 65/1000\n",
      "237/237 [==============================] - 77s 317ms/step - loss: 0.0285 - accuracy: 0.9900 - true_positives: 15611.0000 - true_negatives: 14338.0000 - false_positives: 162.0000 - false_negatives: 139.0000 - val_loss: 0.0483 - val_accuracy: 0.9827 - val_true_positives: 3429.0000 - val_true_negatives: 2762.0000 - val_false_positives: 58.0000 - val_false_negatives: 51.0000\n",
      "Epoch 66/1000\n",
      "237/237 [==============================] - 77s 316ms/step - loss: 0.0252 - accuracy: 0.9909 - true_positives: 15611.0000 - true_negatives: 14365.0000 - false_positives: 135.0000 - false_negatives: 139.0000 - val_loss: 0.0472 - val_accuracy: 0.9844 - val_true_positives: 3428.0000 - val_true_negatives: 2774.0000 - val_false_positives: 46.0000 - val_false_negatives: 52.0000\n",
      "Epoch 67/1000\n",
      "237/237 [==============================] - 77s 317ms/step - loss: 0.0228 - accuracy: 0.9924 - true_positives: 15639.0000 - true_negatives: 14381.0000 - false_positives: 119.0000 - false_negatives: 111.0000 - val_loss: 0.0443 - val_accuracy: 0.9840 - val_true_positives: 3455.0000 - val_true_negatives: 2744.0000 - val_false_positives: 76.0000 - val_false_negatives: 25.0000\n",
      "Epoch 68/1000\n",
      "237/237 [==============================] - 77s 316ms/step - loss: 0.0219 - accuracy: 0.9923 - true_positives: 15631.0000 - true_negatives: 14386.0000 - false_positives: 114.0000 - false_negatives: 119.0000 - val_loss: 0.0662 - val_accuracy: 0.9763 - val_true_positives: 3459.0000 - val_true_negatives: 2692.0000 - val_false_positives: 128.0000 - val_false_negatives: 21.0000\n",
      "Epoch 69/1000\n",
      "237/237 [==============================] - 77s 315ms/step - loss: 0.0239 - accuracy: 0.9915 - true_positives: 15612.0000 - true_negatives: 14380.0000 - false_positives: 120.0000 - false_negatives: 138.0000 - val_loss: 0.0656 - val_accuracy: 0.9776 - val_true_positives: 3452.0000 - val_true_negatives: 2707.0000 - val_false_positives: 113.0000 - val_false_negatives: 28.0000\n",
      "Epoch 70/1000\n",
      "237/237 [==============================] - 78s 321ms/step - loss: 0.0233 - accuracy: 0.9920 - true_positives: 15628.0000 - true_negatives: 14380.0000 - false_positives: 120.0000 - false_negatives: 122.0000 - val_loss: 0.0384 - val_accuracy: 0.9873 - val_true_positives: 3427.0000 - val_true_negatives: 2793.0000 - val_false_positives: 27.0000 - val_false_negatives: 53.0000\n",
      "Epoch 71/1000\n",
      "237/237 [==============================] - 77s 319ms/step - loss: 0.0238 - accuracy: 0.9919 - true_positives: 15637.0000 - true_negatives: 14367.0000 - false_positives: 133.0000 - false_negatives: 113.0000 - val_loss: 0.0902 - val_accuracy: 0.9722 - val_true_positives: 3362.0000 - val_true_negatives: 2763.0000 - val_false_positives: 57.0000 - val_false_negatives: 118.0000\n",
      "Epoch 72/1000\n",
      "237/237 [==============================] - 77s 317ms/step - loss: 0.0222 - accuracy: 0.9915 - true_positives: 15624.0000 - true_negatives: 14370.0000 - false_positives: 130.0000 - false_negatives: 126.0000 - val_loss: 0.0516 - val_accuracy: 0.9832 - val_true_positives: 3383.0000 - val_true_negatives: 2811.0000 - val_false_positives: 9.0000 - val_false_negatives: 97.0000\n",
      "Epoch 73/1000\n",
      "237/237 [==============================] - 77s 317ms/step - loss: 0.0234 - accuracy: 0.9919 - true_positives: 15633.0000 - true_negatives: 14373.0000 - false_positives: 127.0000 - false_negatives: 117.0000 - val_loss: 0.0552 - val_accuracy: 0.9808 - val_true_positives: 3450.0000 - val_true_negatives: 2729.0000 - val_false_positives: 91.0000 - val_false_negatives: 30.0000\n",
      "Epoch 74/1000\n",
      "237/237 [==============================] - 79s 328ms/step - loss: 0.0219 - accuracy: 0.9925 - true_positives: 15635.0000 - true_negatives: 14387.0000 - false_positives: 113.0000 - false_negatives: 115.0000 - val_loss: 0.0561 - val_accuracy: 0.9822 - val_true_positives: 3434.0000 - val_true_negatives: 2754.0000 - val_false_positives: 66.0000 - val_false_negatives: 46.0000\n",
      "Epoch 75/1000\n",
      "237/237 [==============================] - 83s 342ms/step - loss: 0.0233 - accuracy: 0.9920 - true_positives: 15636.0000 - true_negatives: 14371.0000 - false_positives: 129.0000 - false_negatives: 114.0000 - val_loss: 0.0637 - val_accuracy: 0.9781 - val_true_positives: 3424.0000 - val_true_negatives: 2738.0000 - val_false_positives: 82.0000 - val_false_negatives: 56.0000\n",
      "Epoch 76/1000\n",
      "237/237 [==============================] - 78s 320ms/step - loss: 0.0203 - accuracy: 0.9928 - true_positives: 15649.0000 - true_negatives: 14382.0000 - false_positives: 118.0000 - false_negatives: 101.0000 - val_loss: 0.1228 - val_accuracy: 0.9594 - val_true_positives: 3359.0000 - val_true_negatives: 2685.0000 - val_false_positives: 135.0000 - val_false_negatives: 121.0000\n",
      "Epoch 77/1000\n",
      "237/237 [==============================] - 88s 365ms/step - loss: 0.0225 - accuracy: 0.9918 - true_positives: 15632.0000 - true_negatives: 14370.0000 - false_positives: 130.0000 - false_negatives: 118.0000 - val_loss: 0.1303 - val_accuracy: 0.9543 - val_true_positives: 3346.0000 - val_true_negatives: 2666.0000 - val_false_positives: 154.0000 - val_false_negatives: 134.0000\n",
      "Epoch 78/1000\n",
      "237/237 [==============================] - 90s 372ms/step - loss: 0.0204 - accuracy: 0.9932 - true_positives: 15649.0000 - true_negatives: 14394.0000 - false_positives: 106.0000 - false_negatives: 101.0000 - val_loss: 0.0385 - val_accuracy: 0.9886 - val_true_positives: 3458.0000 - val_true_negatives: 2770.0000 - val_false_positives: 50.0000 - val_false_negatives: 22.0000\n",
      "Epoch 79/1000\n",
      "237/237 [==============================] - 90s 373ms/step - loss: 0.0226 - accuracy: 0.9919 - true_positives: 15635.0000 - true_negatives: 14369.0000 - false_positives: 131.0000 - false_negatives: 115.0000 - val_loss: 0.0472 - val_accuracy: 0.9830 - val_true_positives: 3441.0000 - val_true_negatives: 2752.0000 - val_false_positives: 68.0000 - val_false_negatives: 39.0000\n",
      "Epoch 80/1000\n",
      "237/237 [==============================] - 91s 374ms/step - loss: 0.0224 - accuracy: 0.9922 - true_positives: 15642.0000 - true_negatives: 14372.0000 - false_positives: 128.0000 - false_negatives: 108.0000 - val_loss: 0.0588 - val_accuracy: 0.9786 - val_true_positives: 3431.0000 - val_true_negatives: 2734.0000 - val_false_positives: 86.0000 - val_false_negatives: 49.0000\n"
     ]
    },
    {
     "data": {
      "text/plain": [
       "<keras.callbacks.History at 0x1d5c08f86d0>"
      ]
     },
     "execution_count": 5,
     "metadata": {},
     "output_type": "execute_result"
    }
   ],
   "source": [
    "final_model = create_cnn4(32, 0.1, 0.001, pixel)\n",
    "\n",
    "final_model.fit(train_images,\n",
    "                    batch_size = 64, \n",
    "                    epochs = 1000,\n",
    "                    validation_data = valid_images,\n",
    "                    callbacks = [early_stop, \n",
    "                                tf.keras.callbacks.TensorBoard(log_dir=create_log_path('CNN4_best'), histogram_freq=1)],\n",
    "                    workers = 10)"
   ]
  },
  {
   "cell_type": "markdown",
   "metadata": {},
   "source": [
    "Because of early_stopping, it stopped at epoch 80 and we can take a look at the tensorboard to look more into depth about this model. "
   ]
  },
  {
   "cell_type": "markdown",
   "metadata": {},
   "source": [
    "<hr style=\"border:2px solid blue\">   \n",
    "\n",
    "Using the evaluate method inside the [metric_note class](https://github.com/irwin-lam/FireOrNot/blob/main/src/metric_notes.py), we can see how the model performs on the data. \n",
    "The order of the output is for train, test, and validation data. "
   ]
  },
  {
   "cell_type": "code",
   "execution_count": 6,
   "metadata": {},
   "outputs": [
    {
     "name": "stdout",
     "output_type": "stream",
     "text": [
      "237/237 [==============================] - 214s 903ms/step - loss: 0.0278 - accuracy: 0.9897 - true_positives: 15706.0000 - true_negatives: 14231.0000 - false_positives: 269.0000 - false_negatives: 44.0000\n",
      "50/50 [==============================] - 14s 278ms/step - loss: 0.0323 - accuracy: 0.9897 - true_positives: 3453.0000 - true_negatives: 2782.0000 - false_positives: 38.0000 - false_negatives: 27.0000\n",
      "99/99 [==============================] - 45s 454ms/step - loss: 0.0376 - accuracy: 0.9863 - true_positives: 3450.0000 - true_negatives: 2764.0000 - false_positives: 56.0000 - false_negatives: 30.0000\n"
     ]
    },
    {
     "data": {
      "image/png": "[encoded data removed]",
      "text/plain": [
       "<Figure size 600x600 with 2 Axes>"
      ]
     },
     "metadata": {},
     "output_type": "display_data"
    }
   ],
   "source": [
    "metrics.evaluate(final_model, 'Final Model', size)"
   ]
  },
  {
   "cell_type": "markdown",
   "metadata": {},
   "source": [
    "**NOTE THE CONFUSION MATRIX BUGGED OUT AND I CURRENTLY LOOKING INTO WHY THIS HAPPENED :**"
   ]
  },
  {
   "cell_type": "markdown",
   "metadata": {},
   "source": [
    "### Exporting\n",
    "<hr style=\"border:2px solid MAGENTA\">  \n",
    "\n",
    "Saving the weights into this folder so we can load them up in the future. Printing out the metrics printout attribute."
   ]
  },
  {
   "cell_type": "code",
   "execution_count": 7,
   "metadata": {},
   "outputs": [],
   "source": [
    "final_model.save_weights('./Models_weights/CNN4_best')"
   ]
  },
  {
   "cell_type": "code",
   "execution_count": 8,
   "metadata": {},
   "outputs": [],
   "source": [
    "metrics.printout.to_csv(f'Dataframes/{size}Final_Model.csv')"
   ]
  },
  {
   "cell_type": "code",
   "execution_count": 9,
   "metadata": {},
   "outputs": [
    {
     "data": {
      "text/html": [
       "<div>\n",
       "<style scoped>\n",
       "    .dataframe tbody tr th:only-of-type {\n",
       "        vertical-align: middle;\n",
       "    }\n",
       "\n",
       "    .dataframe tbody tr th {\n",
       "        vertical-align: top;\n",
       "    }\n",
       "\n",
       "    .dataframe thead th {\n",
       "        text-align: right;\n",
       "    }\n",
       "</style>\n",
       "<table border=\"1\" class=\"dataframe\">\n",
       "  <thead>\n",
       "    <tr style=\"text-align: right;\">\n",
       "      <th></th>\n",
       "      <th>Model</th>\n",
       "      <th>Size</th>\n",
       "      <th>train log_loss</th>\n",
       "      <th>train accuracy</th>\n",
       "      <th>train TP</th>\n",
       "      <th>train TN</th>\n",
       "      <th>train FP</th>\n",
       "      <th>train FN</th>\n",
       "      <th>test log_loss</th>\n",
       "      <th>test accuracy</th>\n",
       "      <th>test TP</th>\n",
       "      <th>test TN</th>\n",
       "      <th>test FP</th>\n",
       "      <th>test FN</th>\n",
       "      <th>val log_loss</th>\n",
       "      <th>val accuracy</th>\n",
       "      <th>val TP</th>\n",
       "      <th>val TN</th>\n",
       "      <th>val FP</th>\n",
       "      <th>val FN</th>\n",
       "    </tr>\n",
       "  </thead>\n",
       "  <tbody>\n",
       "    <tr>\n",
       "      <th>0</th>\n",
       "      <td>Final Model</td>\n",
       "      <td>224x224</td>\n",
       "      <td>0.027829</td>\n",
       "      <td>0.989653</td>\n",
       "      <td>15706.0</td>\n",
       "      <td>14231.0</td>\n",
       "      <td>269.0</td>\n",
       "      <td>44.0</td>\n",
       "      <td>0.032271</td>\n",
       "      <td>0.989683</td>\n",
       "      <td>3453.0</td>\n",
       "      <td>2782.0</td>\n",
       "      <td>38.0</td>\n",
       "      <td>27.0</td>\n",
       "      <td>0.037576</td>\n",
       "      <td>0.986349</td>\n",
       "      <td>3450.0</td>\n",
       "      <td>2764.0</td>\n",
       "      <td>56.0</td>\n",
       "      <td>30.0</td>\n",
       "    </tr>\n",
       "  </tbody>\n",
       "</table>\n",
       "</div>"
      ],
      "text/plain": [
       "         Model     Size  train log_loss  train accuracy  train TP  train TN  \\\n",
       "0  Final Model  224x224        0.027829        0.989653   15706.0   14231.0   \n",
       "\n",
       "   train FP  train FN  test log_loss  test accuracy  test TP  test TN  \\\n",
       "0     269.0      44.0       0.032271       0.989683   3453.0   2782.0   \n",
       "\n",
       "   test FP  test FN  val log_loss  val accuracy  val TP  val TN  val FP  \\\n",
       "0     38.0     27.0      0.037576      0.986349  3450.0  2764.0    56.0   \n",
       "\n",
       "   val FN  \n",
       "0    30.0  "
      ]
     },
     "execution_count": 9,
     "metadata": {},
     "output_type": "execute_result"
    }
   ],
   "source": [
    "metrics.printout"
   ]
  },
  {
   "cell_type": "markdown",
   "metadata": {},
   "source": [
    "We can see that the model performed very well on all the data!! YAY"
   ]
  }
 ],
 "metadata": {
  "kernelspec": {
   "display_name": "tensorflowgpu_backup",
   "language": "python",
   "name": "python3"
  },
  "language_info": {
   "codemirror_mode": {
    "name": "ipython",
    "version": 3
   },
   "file_extension": ".py",
   "mimetype": "text/x-python",
   "name": "python",
   "nbconvert_exporter": "python",
   "pygments_lexer": "ipython3",
   "version": "3.9.18"
  }
 },
 "nbformat": 4,
 "nbformat_minor": 2
}
