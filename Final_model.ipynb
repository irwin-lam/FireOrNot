{
 "cells": [
  {
   "cell_type": "code",
   "execution_count": 1,
   "metadata": {},
   "outputs": [],
   "source": [
    "import tensorflow as tf\n",
    "import datetime\n",
    "\n",
    "from pathlib import Path\n",
    "from tensorflow.keras.preprocessing.image import ImageDataGenerator\n",
    "\n"
   ]
  },
  {
   "cell_type": "code",
   "execution_count": 2,
   "metadata": {},
   "outputs": [],
   "source": [
    "from src.extract_to_df import extract_to_df\n",
    "from build_models import create_cnn4\n",
    "from src.metric_notes import metric_note"
   ]
  },
  {
   "cell_type": "code",
   "execution_count": 3,
   "metadata": {},
   "outputs": [],
   "source": [
    "#prevent a bug that some images are truncated\n",
    "from PIL import ImageFile\n",
    "ImageFile.LOAD_TRUNCATED_IMAGES = True"
   ]
  },
  {
   "cell_type": "code",
   "execution_count": 4,
   "metadata": {},
   "outputs": [],
   "source": [
    "test = Path('Data/test')\n",
    "train = Path('Data/train')\n",
    "valid = Path('Data/valid')"
   ]
  },
  {
   "cell_type": "code",
   "execution_count": 5,
   "metadata": {},
   "outputs": [],
   "source": [
    "train_df = extract_to_df(train, 'Train')\n",
    "test_df = extract_to_df(test, 'Test')\n",
    "val_df = extract_to_df(valid,'Valid')"
   ]
  },
  {
   "cell_type": "code",
   "execution_count": 6,
   "metadata": {},
   "outputs": [],
   "source": [
    "train_generator = ImageDataGenerator(\n",
    "    rescale=1./255,\n",
    "    width_shift_range = 0.2, \n",
    "    height_shift_range = 0.2,\n",
    "    horizontal_flip = True, \n",
    "    vertical_flip = True\n",
    ")\n",
    "\n",
    "test_generator = ImageDataGenerator(\n",
    "    rescale = 1./255\n",
    ")"
   ]
  },
  {
   "cell_type": "code",
   "execution_count": 7,
   "metadata": {},
   "outputs": [],
   "source": [
    "pixel = 224\n",
    "size = f'{pixel}x{pixel}'"
   ]
  },
  {
   "cell_type": "code",
   "execution_count": 8,
   "metadata": {},
   "outputs": [
    {
     "name": "stdout",
     "output_type": "stream",
     "text": [
      "Found 30250 validated image filenames belonging to 2 classes.\n",
      "Found 6300 validated image filenames belonging to 2 classes.\n",
      "Found 6300 validated image filenames belonging to 2 classes.\n"
     ]
    }
   ],
   "source": [
    "train_images = train_generator.flow_from_dataframe(dataframe=train_df,\n",
    "                                                 x_col = 'Path',\n",
    "                                                 y_col = 'Label',                           \n",
    "                                                 target_size = (pixel,pixel),\n",
    "                                                 class_mode = 'binary',\n",
    "                                                 color_mode = 'rgb',\n",
    "                                                 shuffle = True,\n",
    "                                                 seed = 42,\n",
    "                                                 batch_size = 128)\n",
    "\n",
    "valid_images = train_generator.flow_from_dataframe(dataframe=val_df,\n",
    "                                                 x_col = 'Path',\n",
    "                                                 y_col = 'Label',                           \n",
    "                                                 target_size=(pixel,pixel),\n",
    "                                                 class_mode = 'binary',\n",
    "                                                 color_mode = 'rgb',\n",
    "                                                 shuffle = True,\n",
    "                                                 seed = 42,\n",
    "                                                 batch_size = 64)\n",
    "\n",
    "test_images = test_generator.flow_from_dataframe(dataframe=test_df,\n",
    "                                                 x_col='Path',\n",
    "                                                 y_col='Label',\n",
    "                                                 target_size=(pixel,pixel),\n",
    "                                                 class_mode='binary',\n",
    "                                                 color_mode='rgb',\n",
    "                                                 shuffle=True,\n",
    "                                                 seed=42,\n",
    "                                                 batch_size=128)\n"
   ]
  },
  {
   "cell_type": "code",
   "execution_count": 9,
   "metadata": {},
   "outputs": [],
   "source": [
    "metrics = metric_note(train_images, test_images, valid_images)"
   ]
  },
  {
   "cell_type": "code",
   "execution_count": 17,
   "metadata": {},
   "outputs": [],
   "source": [
    "def create_model_2(node, dropout, learning):\n",
    "    cnn4 = Sequential([\n",
    "        Conv2D(node, kernel_size =(3,3) , activation = 'relu', input_shape=(pixel, pixel, 3)),\n",
    "        MaxPooling2D(pool_size=2),\n",
    "        BatchNormalization(),\n",
    "        Dropout(dropout),\n",
    "        Conv2D(node*2, kernel_size =(3,3) , activation = 'relu', input_shape=(pixel, pixel, 3)),\n",
    "        MaxPooling2D(pool_size=2),\n",
    "        BatchNormalization(),\n",
    "        Dropout(dropout),\n",
    "        Conv2D(node*3, kernel_size =(3,3) , activation = 'relu', input_shape=(pixel, pixel, 3)),\n",
    "        MaxPooling2D(pool_size=2),\n",
    "        BatchNormalization(),\n",
    "        Dropout(dropout),\n",
    "        Conv2D(node*4, kernel_size =(3,3) , activation = 'relu', input_shape=(pixel, pixel, 3)),\n",
    "        MaxPooling2D(pool_size=2),\n",
    "        BatchNormalization(),\n",
    "        Dropout(dropout*4),\n",
    "        Flatten(),\n",
    "        Dense(node, activation = 'relu'),\n",
    "        BatchNormalization(),\n",
    "        Dropout(dropout),\n",
    "        Dense(1, activation='sigmoid')\n",
    "    ])\n",
    "    optimizer = tf.keras.optimizers.Adam(learning_rate=learning)\n",
    "    cnn4.compile(\n",
    "        optimizer=optimizer,\n",
    "        loss='binary_crossentropy',\n",
    "        metrics=['accuracy', TruePositives(thresholds= .5), TrueNegatives(thresholds= .5), FalsePositives(thresholds= .5), FalseNegatives(thresholds= .5)])\n",
    "    return cnn4"
   ]
  },
  {
   "cell_type": "code",
   "execution_count": 10,
   "metadata": {},
   "outputs": [],
   "source": [
    "def create_log_path(name):\n",
    "    log_dir = \"logs/fit/\" + f'{name}/' + datetime.datetime.now().strftime(\"%Y%m%d-%H%M%S\")\n",
    "    return log_dir\n",
    "    \n",
    "early_stop = tf.keras.callbacks.EarlyStopping(\n",
    "            monitor='val_loss',\n",
    "            patience=20,\n",
    "            restore_best_weights=True)"
   ]
  },
  {
   "cell_type": "code",
   "execution_count": 11,
   "metadata": {},
   "outputs": [
    {
     "name": "stdout",
     "output_type": "stream",
     "text": [
      "Epoch 1/1000\n",
      "237/237 [==============================] - 83s 319ms/step - loss: 0.1918 - accuracy: 0.9266 - true_positives: 14735.0000 - true_negatives: 13294.0000 - false_positives: 1206.0000 - false_negatives: 1015.0000 - val_loss: 1.1304 - val_accuracy: 0.5524 - val_true_positives: 3480.0000 - val_true_negatives: 0.0000e+00 - val_false_positives: 2820.0000 - val_false_negatives: 0.0000e+00\n",
      "Epoch 2/1000\n",
      "237/237 [==============================] - 75s 308ms/step - loss: 0.1405 - accuracy: 0.9459 - true_positives: 15032.0000 - true_negatives: 13581.0000 - false_positives: 919.0000 - false_negatives: 718.0000 - val_loss: 1.2714 - val_accuracy: 0.6413 - val_true_positives: 3480.0000 - val_true_negatives: 560.0000 - val_false_positives: 2260.0000 - val_false_negatives: 0.0000e+00\n",
      "Epoch 3/1000\n",
      "237/237 [==============================] - 71s 291ms/step - loss: 0.1319 - accuracy: 0.9497 - true_positives: 15100.0000 - true_negatives: 13628.0000 - false_positives: 872.0000 - false_negatives: 650.0000 - val_loss: 0.2787 - val_accuracy: 0.8883 - val_true_positives: 3472.0000 - val_true_negatives: 2124.0000 - val_false_positives: 696.0000 - val_false_negatives: 8.0000\n",
      "Epoch 4/1000\n",
      "237/237 [==============================] - 67s 276ms/step - loss: 0.1224 - accuracy: 0.9535 - true_positives: 15134.0000 - true_negatives: 13710.0000 - false_positives: 790.0000 - false_negatives: 616.0000 - val_loss: 0.1661 - val_accuracy: 0.9425 - val_true_positives: 3416.0000 - val_true_negatives: 2522.0000 - val_false_positives: 298.0000 - val_false_negatives: 64.0000\n",
      "Epoch 5/1000\n",
      "237/237 [==============================] - 70s 288ms/step - loss: 0.1116 - accuracy: 0.9576 - true_positives: 15215.0000 - true_negatives: 13753.0000 - false_positives: 747.0000 - false_negatives: 535.0000 - val_loss: 1.9513 - val_accuracy: 0.5748 - val_true_positives: 875.0000 - val_true_negatives: 2746.0000 - val_false_positives: 74.0000 - val_false_negatives: 2605.0000\n",
      "Epoch 6/1000\n",
      "237/237 [==============================] - 72s 296ms/step - loss: 0.1030 - accuracy: 0.9604 - true_positives: 15209.0000 - true_negatives: 13843.0000 - false_positives: 657.0000 - false_negatives: 541.0000 - val_loss: 0.1469 - val_accuracy: 0.9429 - val_true_positives: 3361.0000 - val_true_negatives: 2579.0000 - val_false_positives: 241.0000 - val_false_negatives: 119.0000\n",
      "Epoch 7/1000\n",
      "237/237 [==============================] - 73s 302ms/step - loss: 0.0972 - accuracy: 0.9629 - true_positives: 15266.0000 - true_negatives: 13863.0000 - false_positives: 637.0000 - false_negatives: 484.0000 - val_loss: 0.1204 - val_accuracy: 0.9576 - val_true_positives: 3388.0000 - val_true_negatives: 2645.0000 - val_false_positives: 175.0000 - val_false_negatives: 92.0000\n",
      "Epoch 8/1000\n",
      "237/237 [==============================] - 75s 308ms/step - loss: 0.0913 - accuracy: 0.9654 - true_positives: 15269.0000 - true_negatives: 13933.0000 - false_positives: 567.0000 - false_negatives: 481.0000 - val_loss: 0.1035 - val_accuracy: 0.9611 - val_true_positives: 3418.0000 - val_true_negatives: 2637.0000 - val_false_positives: 183.0000 - val_false_negatives: 62.0000\n",
      "Epoch 9/1000\n",
      "237/237 [==============================] - 75s 308ms/step - loss: 0.0869 - accuracy: 0.9673 - true_positives: 15294.0000 - true_negatives: 13966.0000 - false_positives: 534.0000 - false_negatives: 456.0000 - val_loss: 0.1882 - val_accuracy: 0.9370 - val_true_positives: 3463.0000 - val_true_negatives: 2440.0000 - val_false_positives: 380.0000 - val_false_negatives: 17.0000\n",
      "Epoch 10/1000\n",
      "237/237 [==============================] - 75s 307ms/step - loss: 0.0815 - accuracy: 0.9693 - true_positives: 15344.0000 - true_negatives: 13976.0000 - false_positives: 524.0000 - false_negatives: 406.0000 - val_loss: 0.0825 - val_accuracy: 0.9692 - val_true_positives: 3439.0000 - val_true_negatives: 2667.0000 - val_false_positives: 153.0000 - val_false_negatives: 41.0000\n",
      "Epoch 11/1000\n",
      "237/237 [==============================] - 75s 307ms/step - loss: 0.0769 - accuracy: 0.9716 - true_positives: 15345.0000 - true_negatives: 14047.0000 - false_positives: 453.0000 - false_negatives: 405.0000 - val_loss: 0.1556 - val_accuracy: 0.9468 - val_true_positives: 3449.0000 - val_true_negatives: 2516.0000 - val_false_positives: 304.0000 - val_false_negatives: 31.0000\n",
      "Epoch 12/1000\n",
      "237/237 [==============================] - 75s 309ms/step - loss: 0.0739 - accuracy: 0.9717 - true_positives: 15353.0000 - true_negatives: 14040.0000 - false_positives: 460.0000 - false_negatives: 397.0000 - val_loss: 0.1219 - val_accuracy: 0.9535 - val_true_positives: 3256.0000 - val_true_negatives: 2751.0000 - val_false_positives: 69.0000 - val_false_negatives: 224.0000\n",
      "Epoch 13/1000\n",
      "237/237 [==============================] - 68s 278ms/step - loss: 0.0699 - accuracy: 0.9745 - true_positives: 15397.0000 - true_negatives: 14083.0000 - false_positives: 417.0000 - false_negatives: 353.0000 - val_loss: 0.1184 - val_accuracy: 0.9575 - val_true_positives: 3463.0000 - val_true_negatives: 2569.0000 - val_false_positives: 251.0000 - val_false_negatives: 17.0000\n",
      "Epoch 14/1000\n",
      "237/237 [==============================] - 67s 275ms/step - loss: 0.0667 - accuracy: 0.9742 - true_positives: 15400.0000 - true_negatives: 14071.0000 - false_positives: 429.0000 - false_negatives: 350.0000 - val_loss: 0.0936 - val_accuracy: 0.9649 - val_true_positives: 3354.0000 - val_true_negatives: 2725.0000 - val_false_positives: 95.0000 - val_false_negatives: 126.0000\n",
      "Epoch 15/1000\n",
      "237/237 [==============================] - 66s 269ms/step - loss: 0.0682 - accuracy: 0.9757 - true_positives: 15411.0000 - true_negatives: 14103.0000 - false_positives: 397.0000 - false_negatives: 339.0000 - val_loss: 0.0864 - val_accuracy: 0.9686 - val_true_positives: 3449.0000 - val_true_negatives: 2653.0000 - val_false_positives: 167.0000 - val_false_negatives: 31.0000\n",
      "Epoch 16/1000\n",
      "237/237 [==============================] - 66s 271ms/step - loss: 0.0629 - accuracy: 0.9765 - true_positives: 15433.0000 - true_negatives: 14105.0000 - false_positives: 395.0000 - false_negatives: 317.0000 - val_loss: 0.0717 - val_accuracy: 0.9708 - val_true_positives: 3444.0000 - val_true_negatives: 2672.0000 - val_false_positives: 148.0000 - val_false_negatives: 36.0000\n",
      "Epoch 17/1000\n",
      "237/237 [==============================] - 65s 267ms/step - loss: 0.0602 - accuracy: 0.9772 - true_positives: 15448.0000 - true_negatives: 14112.0000 - false_positives: 388.0000 - false_negatives: 302.0000 - val_loss: 0.1192 - val_accuracy: 0.9554 - val_true_positives: 3417.0000 - val_true_negatives: 2602.0000 - val_false_positives: 218.0000 - val_false_negatives: 63.0000\n",
      "Epoch 18/1000\n",
      "237/237 [==============================] - 74s 305ms/step - loss: 0.0633 - accuracy: 0.9761 - true_positives: 15424.0000 - true_negatives: 14104.0000 - false_positives: 396.0000 - false_negatives: 326.0000 - val_loss: 0.0744 - val_accuracy: 0.9729 - val_true_positives: 3390.0000 - val_true_negatives: 2739.0000 - val_false_positives: 81.0000 - val_false_negatives: 90.0000\n",
      "Epoch 19/1000\n",
      "237/237 [==============================] - 75s 306ms/step - loss: 0.0566 - accuracy: 0.9794 - true_positives: 15469.0000 - true_negatives: 14158.0000 - false_positives: 342.0000 - false_negatives: 281.0000 - val_loss: 0.0947 - val_accuracy: 0.9633 - val_true_positives: 3350.0000 - val_true_negatives: 2719.0000 - val_false_positives: 101.0000 - val_false_negatives: 130.0000\n",
      "Epoch 20/1000\n",
      "237/237 [==============================] - 74s 305ms/step - loss: 0.0563 - accuracy: 0.9795 - true_positives: 15473.0000 - true_negatives: 14157.0000 - false_positives: 343.0000 - false_negatives: 277.0000 - val_loss: 0.1175 - val_accuracy: 0.9578 - val_true_positives: 3354.0000 - val_true_negatives: 2680.0000 - val_false_positives: 140.0000 - val_false_negatives: 126.0000\n",
      "Epoch 21/1000\n",
      "237/237 [==============================] - 74s 305ms/step - loss: 0.0541 - accuracy: 0.9804 - true_positives: 15483.0000 - true_negatives: 14173.0000 - false_positives: 327.0000 - false_negatives: 267.0000 - val_loss: 0.2855 - val_accuracy: 0.9137 - val_true_positives: 3465.0000 - val_true_negatives: 2291.0000 - val_false_positives: 529.0000 - val_false_negatives: 15.0000\n",
      "Epoch 22/1000\n",
      "237/237 [==============================] - 72s 295ms/step - loss: 0.0531 - accuracy: 0.9806 - true_positives: 15485.0000 - true_negatives: 14177.0000 - false_positives: 323.0000 - false_negatives: 265.0000 - val_loss: 0.0717 - val_accuracy: 0.9771 - val_true_positives: 3427.0000 - val_true_negatives: 2729.0000 - val_false_positives: 91.0000 - val_false_negatives: 53.0000\n",
      "Epoch 23/1000\n",
      "237/237 [==============================] - 68s 279ms/step - loss: 0.0494 - accuracy: 0.9823 - true_positives: 15501.0000 - true_negatives: 14215.0000 - false_positives: 285.0000 - false_negatives: 249.0000 - val_loss: 0.0565 - val_accuracy: 0.9805 - val_true_positives: 3447.0000 - val_true_negatives: 2730.0000 - val_false_positives: 90.0000 - val_false_negatives: 33.0000\n",
      "Epoch 24/1000\n",
      "237/237 [==============================] - 65s 268ms/step - loss: 0.0515 - accuracy: 0.9803 - true_positives: 15484.0000 - true_negatives: 14170.0000 - false_positives: 330.0000 - false_negatives: 266.0000 - val_loss: 0.0928 - val_accuracy: 0.9686 - val_true_positives: 3437.0000 - val_true_negatives: 2665.0000 - val_false_positives: 155.0000 - val_false_negatives: 43.0000\n",
      "Epoch 25/1000\n",
      "237/237 [==============================] - 68s 279ms/step - loss: 0.0482 - accuracy: 0.9825 - true_positives: 15503.0000 - true_negatives: 14218.0000 - false_positives: 282.0000 - false_negatives: 247.0000 - val_loss: 0.1470 - val_accuracy: 0.9487 - val_true_positives: 3325.0000 - val_true_negatives: 2652.0000 - val_false_positives: 168.0000 - val_false_negatives: 155.0000\n",
      "Epoch 26/1000\n",
      "237/237 [==============================] - 68s 282ms/step - loss: 0.0485 - accuracy: 0.9820 - true_positives: 15502.0000 - true_negatives: 14203.0000 - false_positives: 297.0000 - false_negatives: 248.0000 - val_loss: 0.0744 - val_accuracy: 0.9748 - val_true_positives: 3425.0000 - val_true_negatives: 2716.0000 - val_false_positives: 104.0000 - val_false_negatives: 55.0000\n",
      "Epoch 27/1000\n",
      "237/237 [==============================] - 68s 278ms/step - loss: 0.0437 - accuracy: 0.9845 - true_positives: 15535.0000 - true_negatives: 14245.0000 - false_positives: 255.0000 - false_negatives: 215.0000 - val_loss: 0.0592 - val_accuracy: 0.9786 - val_true_positives: 3446.0000 - val_true_negatives: 2719.0000 - val_false_positives: 101.0000 - val_false_negatives: 34.0000\n",
      "Epoch 28/1000\n",
      "237/237 [==============================] - 67s 275ms/step - loss: 0.0455 - accuracy: 0.9831 - true_positives: 15525.0000 - true_negatives: 14214.0000 - false_positives: 286.0000 - false_negatives: 225.0000 - val_loss: 0.0793 - val_accuracy: 0.9724 - val_true_positives: 3432.0000 - val_true_negatives: 2694.0000 - val_false_positives: 126.0000 - val_false_negatives: 48.0000\n",
      "Epoch 29/1000\n",
      "237/237 [==============================] - 68s 277ms/step - loss: 0.0425 - accuracy: 0.9850 - true_positives: 15539.0000 - true_negatives: 14257.0000 - false_positives: 243.0000 - false_negatives: 211.0000 - val_loss: 0.1677 - val_accuracy: 0.9376 - val_true_positives: 3354.0000 - val_true_negatives: 2553.0000 - val_false_positives: 267.0000 - val_false_negatives: 126.0000\n",
      "Epoch 30/1000\n",
      "237/237 [==============================] - 69s 282ms/step - loss: 0.0444 - accuracy: 0.9832 - true_positives: 15518.0000 - true_negatives: 14225.0000 - false_positives: 275.0000 - false_negatives: 232.0000 - val_loss: 0.1878 - val_accuracy: 0.9227 - val_true_positives: 3219.0000 - val_true_negatives: 2594.0000 - val_false_positives: 226.0000 - val_false_negatives: 261.0000\n",
      "Epoch 31/1000\n",
      "237/237 [==============================] - 69s 282ms/step - loss: 0.0432 - accuracy: 0.9845 - true_positives: 15538.0000 - true_negatives: 14243.0000 - false_positives: 257.0000 - false_negatives: 212.0000 - val_loss: 0.1220 - val_accuracy: 0.9562 - val_true_positives: 3371.0000 - val_true_negatives: 2653.0000 - val_false_positives: 167.0000 - val_false_negatives: 109.0000\n",
      "Epoch 32/1000\n",
      "237/237 [==============================] - 69s 285ms/step - loss: 0.0420 - accuracy: 0.9847 - true_positives: 15537.0000 - true_negatives: 14249.0000 - false_positives: 251.0000 - false_negatives: 213.0000 - val_loss: 0.0735 - val_accuracy: 0.9721 - val_true_positives: 3426.0000 - val_true_negatives: 2698.0000 - val_false_positives: 122.0000 - val_false_negatives: 54.0000\n",
      "Epoch 33/1000\n",
      "237/237 [==============================] - 68s 281ms/step - loss: 0.0431 - accuracy: 0.9837 - true_positives: 15508.0000 - true_negatives: 14250.0000 - false_positives: 250.0000 - false_negatives: 242.0000 - val_loss: 0.0571 - val_accuracy: 0.9824 - val_true_positives: 3394.0000 - val_true_negatives: 2795.0000 - val_false_positives: 25.0000 - val_false_negatives: 86.0000\n",
      "Epoch 34/1000\n",
      "237/237 [==============================] - 66s 271ms/step - loss: 0.0408 - accuracy: 0.9855 - true_positives: 15549.0000 - true_negatives: 14262.0000 - false_positives: 238.0000 - false_negatives: 201.0000 - val_loss: 0.0748 - val_accuracy: 0.9741 - val_true_positives: 3401.0000 - val_true_negatives: 2736.0000 - val_false_positives: 84.0000 - val_false_negatives: 79.0000\n",
      "Epoch 35/1000\n",
      "237/237 [==============================] - 66s 271ms/step - loss: 0.0398 - accuracy: 0.9861 - true_positives: 15552.0000 - true_negatives: 14279.0000 - false_positives: 221.0000 - false_negatives: 198.0000 - val_loss: 0.0664 - val_accuracy: 0.9767 - val_true_positives: 3446.0000 - val_true_negatives: 2707.0000 - val_false_positives: 113.0000 - val_false_negatives: 34.0000\n",
      "Epoch 36/1000\n",
      "237/237 [==============================] - 67s 277ms/step - loss: 0.0378 - accuracy: 0.9866 - true_positives: 15551.0000 - true_negatives: 14293.0000 - false_positives: 207.0000 - false_negatives: 199.0000 - val_loss: 0.1191 - val_accuracy: 0.9563 - val_true_positives: 3305.0000 - val_true_negatives: 2720.0000 - val_false_positives: 100.0000 - val_false_negatives: 175.0000\n",
      "Epoch 37/1000\n",
      "237/237 [==============================] - 66s 270ms/step - loss: 0.0363 - accuracy: 0.9865 - true_positives: 15559.0000 - true_negatives: 14283.0000 - false_positives: 217.0000 - false_negatives: 191.0000 - val_loss: 0.4826 - val_accuracy: 0.8192 - val_true_positives: 2874.0000 - val_true_negatives: 2287.0000 - val_false_positives: 533.0000 - val_false_negatives: 606.0000\n",
      "Epoch 38/1000\n",
      "237/237 [==============================] - 68s 280ms/step - loss: 0.0372 - accuracy: 0.9864 - true_positives: 15563.0000 - true_negatives: 14275.0000 - false_positives: 225.0000 - false_negatives: 187.0000 - val_loss: 0.0715 - val_accuracy: 0.9735 - val_true_positives: 3399.0000 - val_true_negatives: 2734.0000 - val_false_positives: 86.0000 - val_false_negatives: 81.0000\n",
      "Epoch 39/1000\n",
      "237/237 [==============================] - 67s 271ms/step - loss: 0.0370 - accuracy: 0.9866 - true_positives: 15550.0000 - true_negatives: 14296.0000 - false_positives: 204.0000 - false_negatives: 200.0000 - val_loss: 0.1303 - val_accuracy: 0.9562 - val_true_positives: 3249.0000 - val_true_negatives: 2775.0000 - val_false_positives: 45.0000 - val_false_negatives: 231.0000\n",
      "Epoch 40/1000\n",
      "237/237 [==============================] - 66s 272ms/step - loss: 0.0354 - accuracy: 0.9867 - true_positives: 15575.0000 - true_negatives: 14273.0000 - false_positives: 227.0000 - false_negatives: 175.0000 - val_loss: 0.1151 - val_accuracy: 0.9581 - val_true_positives: 3440.0000 - val_true_negatives: 2596.0000 - val_false_positives: 224.0000 - val_false_negatives: 40.0000\n",
      "Epoch 41/1000\n",
      "237/237 [==============================] - 66s 271ms/step - loss: 0.0351 - accuracy: 0.9862 - true_positives: 15553.0000 - true_negatives: 14280.0000 - false_positives: 220.0000 - false_negatives: 197.0000 - val_loss: 0.0739 - val_accuracy: 0.9743 - val_true_positives: 3389.0000 - val_true_negatives: 2749.0000 - val_false_positives: 71.0000 - val_false_negatives: 91.0000\n",
      "Epoch 42/1000\n",
      "237/237 [==============================] - 66s 273ms/step - loss: 0.0339 - accuracy: 0.9877 - true_positives: 15570.0000 - true_negatives: 14308.0000 - false_positives: 192.0000 - false_negatives: 180.0000 - val_loss: 0.0827 - val_accuracy: 0.9743 - val_true_positives: 3425.0000 - val_true_negatives: 2713.0000 - val_false_positives: 107.0000 - val_false_negatives: 55.0000\n",
      "Epoch 43/1000\n",
      "237/237 [==============================] - 66s 272ms/step - loss: 0.0317 - accuracy: 0.9888 - true_positives: 15599.0000 - true_negatives: 14311.0000 - false_positives: 189.0000 - false_negatives: 151.0000 - val_loss: 0.0702 - val_accuracy: 0.9771 - val_true_positives: 3439.0000 - val_true_negatives: 2717.0000 - val_false_positives: 103.0000 - val_false_negatives: 41.0000\n"
     ]
    },
    {
     "data": {
      "text/plain": [
       "<keras.callbacks.History at 0x1d0810b7670>"
      ]
     },
     "execution_count": 11,
     "metadata": {},
     "output_type": "execute_result"
    }
   ],
   "source": [
    "final_model = create_cnn4(32, 0.1, 0.001, pixel)\n",
    "\n",
    "final_model.fit(train_images,\n",
    "                    batch_size = 64, \n",
    "                    epochs = 1000,\n",
    "                    validation_data = valid_images,\n",
    "                    callbacks = [early_stop, \n",
    "                                tf.keras.callbacks.TensorBoard(log_dir=create_log_path('CNN4_best'), histogram_freq=1)],\n",
    "                    workers = 10)"
   ]
  },
  {
   "cell_type": "code",
   "execution_count": 14,
   "metadata": {},
   "outputs": [
    {
     "name": "stdout",
     "output_type": "stream",
     "text": [
      "237/237 [==============================] - 457s 2s/step - loss: 0.0483 - accuracy: 0.9816 - true_positives: 15636.0000 - true_negatives: 14056.0000 - false_positives: 444.0000 - false_negatives: 114.0000\n",
      "50/50 [==============================] - 63s 1s/step - loss: 0.0333 - accuracy: 0.9884 - true_positives: 3453.0000 - true_negatives: 2774.0000 - false_positives: 46.0000 - false_negatives: 27.0000\n",
      "99/99 [==============================] - 101s 1s/step - loss: 0.0557 - accuracy: 0.9798 - true_positives: 3442.0000 - true_negatives: 2731.0000 - false_positives: 89.0000 - false_negatives: 38.0000\n"
     ]
    },
    {
     "data": {
      "image/png": "[encoded data removed]",
      "text/plain": [
       "<Figure size 600x600 with 2 Axes>"
      ]
     },
     "metadata": {},
     "output_type": "display_data"
    }
   ],
   "source": [
    "metrics.evaluate(final_model, 'Final Model', size)"
   ]
  },
  {
   "cell_type": "code",
   "execution_count": 15,
   "metadata": {},
   "outputs": [],
   "source": [
    "final_model.save_weights('./Models/CNN4_best')"
   ]
  },
  {
   "cell_type": "code",
   "execution_count": 16,
   "metadata": {},
   "outputs": [],
   "source": [
    "metrics.printout.to_csv(f'Dataframes/{size}Final_Model.csv')"
   ]
  },
  {
   "cell_type": "code",
   "execution_count": 17,
   "metadata": {},
   "outputs": [
    {
     "data": {
      "text/html": [
       "<div>\n",
       "<style scoped>\n",
       "    .dataframe tbody tr th:only-of-type {\n",
       "        vertical-align: middle;\n",
       "    }\n",
       "\n",
       "    .dataframe tbody tr th {\n",
       "        vertical-align: top;\n",
       "    }\n",
       "\n",
       "    .dataframe thead th {\n",
       "        text-align: right;\n",
       "    }\n",
       "</style>\n",
       "<table border=\"1\" class=\"dataframe\">\n",
       "  <thead>\n",
       "    <tr style=\"text-align: right;\">\n",
       "      <th></th>\n",
       "      <th>Model</th>\n",
       "      <th>Size</th>\n",
       "      <th>train log_loss</th>\n",
       "      <th>train accuracy</th>\n",
       "      <th>train TP</th>\n",
       "      <th>train TN</th>\n",
       "      <th>train FP</th>\n",
       "      <th>train FN</th>\n",
       "      <th>test log_loss</th>\n",
       "      <th>test accuracy</th>\n",
       "      <th>test TP</th>\n",
       "      <th>test TN</th>\n",
       "      <th>test FP</th>\n",
       "      <th>test FN</th>\n",
       "      <th>val log_loss</th>\n",
       "      <th>val accuracy</th>\n",
       "      <th>val TP</th>\n",
       "      <th>val TN</th>\n",
       "      <th>val FP</th>\n",
       "      <th>val FN</th>\n",
       "    </tr>\n",
       "  </thead>\n",
       "  <tbody>\n",
       "    <tr>\n",
       "      <th>0</th>\n",
       "      <td>Final Model</td>\n",
       "      <td>224x224</td>\n",
       "      <td>0.049455</td>\n",
       "      <td>0.980893</td>\n",
       "      <td>15636.0</td>\n",
       "      <td>14036.0</td>\n",
       "      <td>464.0</td>\n",
       "      <td>114.0</td>\n",
       "      <td>0.033313</td>\n",
       "      <td>0.988413</td>\n",
       "      <td>3453.0</td>\n",
       "      <td>2774.0</td>\n",
       "      <td>46.0</td>\n",
       "      <td>27.0</td>\n",
       "      <td>0.053145</td>\n",
       "      <td>0.980952</td>\n",
       "      <td>3446.0</td>\n",
       "      <td>2734.0</td>\n",
       "      <td>86.0</td>\n",
       "      <td>34.0</td>\n",
       "    </tr>\n",
       "    <tr>\n",
       "      <th>1</th>\n",
       "      <td>Final Model</td>\n",
       "      <td>224x224</td>\n",
       "      <td>0.048311</td>\n",
       "      <td>0.981554</td>\n",
       "      <td>15636.0</td>\n",
       "      <td>14056.0</td>\n",
       "      <td>444.0</td>\n",
       "      <td>114.0</td>\n",
       "      <td>0.033313</td>\n",
       "      <td>0.988413</td>\n",
       "      <td>3453.0</td>\n",
       "      <td>2774.0</td>\n",
       "      <td>46.0</td>\n",
       "      <td>27.0</td>\n",
       "      <td>0.055655</td>\n",
       "      <td>0.979841</td>\n",
       "      <td>3442.0</td>\n",
       "      <td>2731.0</td>\n",
       "      <td>89.0</td>\n",
       "      <td>38.0</td>\n",
       "    </tr>\n",
       "  </tbody>\n",
       "</table>\n",
       "</div>"
      ],
      "text/plain": [
       "         Model     Size  train log_loss  train accuracy  train TP  train TN  \\\n",
       "0  Final Model  224x224        0.049455        0.980893   15636.0   14036.0   \n",
       "1  Final Model  224x224        0.048311        0.981554   15636.0   14056.0   \n",
       "\n",
       "   train FP  train FN  test log_loss  test accuracy  test TP  test TN  \\\n",
       "0     464.0     114.0       0.033313       0.988413   3453.0   2774.0   \n",
       "1     444.0     114.0       0.033313       0.988413   3453.0   2774.0   \n",
       "\n",
       "   test FP  test FN  val log_loss  val accuracy  val TP  val TN  val FP  \\\n",
       "0     46.0     27.0      0.053145      0.980952  3446.0  2734.0    86.0   \n",
       "1     46.0     27.0      0.055655      0.979841  3442.0  2731.0    89.0   \n",
       "\n",
       "   val FN  \n",
       "0    34.0  \n",
       "1    38.0  "
      ]
     },
     "execution_count": 17,
     "metadata": {},
     "output_type": "execute_result"
    }
   ],
   "source": [
    "metrics.printout"
   ]
  }
 ],
 "metadata": {
  "kernelspec": {
   "display_name": "tensorflowgpu_backup",
   "language": "python",
   "name": "python3"
  },
  "language_info": {
   "codemirror_mode": {
    "name": "ipython",
    "version": 3
   },
   "file_extension": ".py",
   "mimetype": "text/x-python",
   "name": "python",
   "nbconvert_exporter": "python",
   "pygments_lexer": "ipython3",
   "version": "3.9.18"
  }
 },
 "nbformat": 4,
 "nbformat_minor": 2
}
