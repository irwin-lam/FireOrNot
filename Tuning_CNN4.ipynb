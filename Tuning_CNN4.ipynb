{
 "cells": [
  {
   "cell_type": "code",
   "execution_count": null,
   "metadata": {},
   "outputs": [],
   "source": [
    "import tensorflow as tf\n",
    "import seaborn as sns\n",
    "import matplotlib.pyplot as plt\n",
    "# %matplotlib inline\n",
    "\n",
    "from tensorboard.plugins.hparams import api as hp\n",
    "from pathlib import Path\n",
    "from tensorflow.keras.preprocessing.image import ImageDataGenerator\n",
    "\n",
    "from tensorflow.keras.models import Sequential\n",
    "from tensorflow.keras.layers import Dense, Dropout, Flatten, Conv2D, MaxPooling2D, BatchNormalization\n",
    "from tensorflow.keras import backend\n"
   ]
  },
  {
   "cell_type": "code",
   "execution_count": null,
   "metadata": {},
   "outputs": [],
   "source": [
    "import tensorflow as tf\n",
    "print(tf.__version__)\n",
    "print(\"Num GPUs Available: \", len(tf.config.list_physical_devices('GPU')))"
   ]
  },
  {
   "cell_type": "code",
   "execution_count": null,
   "metadata": {},
   "outputs": [],
   "source": [
    "from src.extract_to_df import extract_to_df\n",
    "from src.visualizations import plot_graph\n",
    "from src.metric_notes import metric_note"
   ]
  },
  {
   "cell_type": "code",
   "execution_count": null,
   "metadata": {},
   "outputs": [],
   "source": [
    "#prevent a bug that some images are truncated\n",
    "from PIL import ImageFile\n",
    "ImageFile.LOAD_TRUNCATED_IMAGES = True\n"
   ]
  },
  {
   "cell_type": "code",
   "execution_count": null,
   "metadata": {},
   "outputs": [],
   "source": [
    "test = Path('Data/test')\n",
    "train = Path('Data/train')\n",
    "valid = Path('Data/valid')\n"
   ]
  },
  {
   "cell_type": "code",
   "execution_count": null,
   "metadata": {},
   "outputs": [],
   "source": [
    "train_df = extract_to_df(train, 'Train')\n",
    "test_df = extract_to_df(test, 'Test')\n",
    "val_df = extract_to_df(valid,'Valid')"
   ]
  },
  {
   "cell_type": "code",
   "execution_count": null,
   "metadata": {},
   "outputs": [],
   "source": [
    "train_generator = ImageDataGenerator(\n",
    "    rescale=1./255,\n",
    "    width_shift_range=0.2,\n",
    "    height_shift_range=0.2,\n",
    "    horizontal_flip=True,\n",
    "    vertical_flip=True\n",
    ")\n",
    "\n",
    "test_generator = ImageDataGenerator(\n",
    "    rescale=1./255\n",
    ")\n"
   ]
  },
  {
   "cell_type": "code",
   "execution_count": null,
   "metadata": {},
   "outputs": [],
   "source": [
    "pixel = 64\n",
    "size = f'{pixel}x{pixel}'"
   ]
  },
  {
   "cell_type": "code",
   "execution_count": null,
   "metadata": {},
   "outputs": [],
   "source": [
    "train_images = train_generator.flow_from_dataframe(dataframe=train_df,\n",
    "                                                   x_col='Path',\n",
    "                                                   y_col='Label',\n",
    "                                                   target_size=(pixel, pixel),\n",
    "                                                   class_mode='binary',\n",
    "                                                   color_mode='rgb',\n",
    "                                                   shuffle=True,\n",
    "                                                   seed=42,\n",
    "                                                   batch_size=128)\n",
    "\n",
    "valid_images = train_generator.flow_from_dataframe(dataframe=val_df,\n",
    "                                                   x_col='Path',\n",
    "                                                   y_col='Label',\n",
    "                                                   target_size=(pixel, pixel),\n",
    "                                                   class_mode='binary',\n",
    "                                                   color_mode='rgb',\n",
    "                                                   shuffle=True,\n",
    "                                                   seed=42,\n",
    "                                                   batch_size=64)\n",
    "\n",
    "test_images = test_generator.flow_from_dataframe(dataframe=test_df,\n",
    "                                                 x_col='Path',\n",
    "                                                 y_col='Label',\n",
    "                                                 target_size=(pixel, pixel),\n",
    "                                                 class_mode='binary',\n",
    "                                                 color_mode='rgb',\n",
    "                                                 shuffle=True,\n",
    "                                                 seed=42,\n",
    "                                                 batch_size=128)"
   ]
  },
  {
   "cell_type": "code",
   "execution_count": null,
   "metadata": {},
   "outputs": [],
   "source": [
    "metrics = metric_note(train_images, test_images, valid_images)"
   ]
  },
  {
   "cell_type": "code",
   "execution_count": null,
   "metadata": {},
   "outputs": [],
   "source": [
    "HP_NUM_UNITS = hp.HParam('num_units', hp.Discrete([16, 32]))\n",
    "HP_DROPOUT = hp.HParam('dropout', hp.RealInterval(0.1, 0.2))\n",
    "HP_LEARNING = hp.HParam('learning', hp.Discrete([0.001, 0.005,0.0001]))\n",
    "\n",
    "METRIC_ACCURACY = 'accuracy'\n",
    "\n",
    "with tf.summary.create_file_writer('logs/hparam_tuning').as_default():\n",
    "  hp.hparams_config(\n",
    "    hparams=[HP_NUM_UNITS, HP_DROPOUT, HP_LEARNING],\n",
    "    metrics=[hp.Metric(METRIC_ACCURACY, display_name='Accuracy')],\n",
    "  )"
   ]
  },
  {
   "cell_type": "code",
   "execution_count": null,
   "metadata": {},
   "outputs": [],
   "source": [
    "def create_model(hparams):\n",
    "    cnn4 = Sequential([\n",
    "        Conv2D(hparams[HP_NUM_UNITS], kernel_size =(3,3) , activation = 'relu', input_shape=(pixel, pixel, 3)),\n",
    "        MaxPooling2D(pool_size=2),\n",
    "        BatchNormalization(),\n",
    "        Dropout(hparams[HP_DROPOUT]),\n",
    "        Conv2D(hparams[HP_NUM_UNITS]*2, kernel_size =(3,3) , activation = 'relu', input_shape=(pixel, pixel, 3)),\n",
    "        MaxPooling2D(pool_size=2),\n",
    "        BatchNormalization(),\n",
    "        Dropout(hparams[HP_DROPOUT]),\n",
    "        Conv2D(hparams[HP_NUM_UNITS]*3, kernel_size =(3,3) , activation = 'relu', input_shape=(pixel, pixel, 3)),\n",
    "        MaxPooling2D(pool_size=2),\n",
    "        BatchNormalization(),\n",
    "        Dropout(hparams[HP_DROPOUT]),\n",
    "        Conv2D(hparams[HP_NUM_UNITS]*4, kernel_size =(3,3) , activation = 'relu', input_shape=(pixel, pixel, 3)),\n",
    "        MaxPooling2D(pool_size=2),\n",
    "        BatchNormalization(),\n",
    "        Dropout(hparams[HP_DROPOUT]*4),\n",
    "        Flatten(),\n",
    "        Dense(hparams[HP_NUM_UNITS], activation = 'relu'),\n",
    "        BatchNormalization(),\n",
    "        Dropout(hparams[HP_DROPOUT]),\n",
    "        Dense(1, activation='sigmoid')\n",
    "    ])\n",
    "    cnn4.compile(\n",
    "        optimizer='adam',\n",
    "        loss='binary_crossentropy',\n",
    "        metrics=['accuracy'])\n",
    "    \n",
    "    cnn4.fit(train_images,\n",
    "            batch_size=64,\n",
    "            epochs=10)\n",
    "    _, accuracy = cnn4.evaluate(test_images)\n",
    "    return accuracy\n"
   ]
  },
  {
   "cell_type": "code",
   "execution_count": null,
   "metadata": {},
   "outputs": [],
   "source": [
    "def run(run_dir, hparams):\n",
    "  with tf.summary.create_file_writer(run_dir).as_default():\n",
    "    hp.hparams(hparams)  \n",
    "    accuracy = create_model(hparams)\n",
    "    tf.summary.scalar(METRIC_ACCURACY, accuracy, step=1)"
   ]
  },
  {
   "cell_type": "code",
   "execution_count": null,
   "metadata": {},
   "outputs": [],
   "source": [
    "session_num = 0\n",
    "\n",
    "for num_units in HP_NUM_UNITS.domain.values:\n",
    "  for dropout_rate in (HP_DROPOUT.domain.min_value, HP_DROPOUT.domain.max_value):\n",
    "    for learning in HP_LEARNING.domain.values:\n",
    "      hparams = {\n",
    "          HP_NUM_UNITS: num_units,\n",
    "          HP_DROPOUT: dropout_rate,\n",
    "          HP_LEARNING: learning,\n",
    "      }\n",
    "      run_name = \"run-%d\" % session_num\n",
    "      print('--- Starting trial: %s' % run_name)\n",
    "      print({h.name: hparams[h] for h in hparams})\n",
    "      run('logs/hparam_tuning/' + run_name, hparams)\n",
    "      session_num += 1"
   ]
  },
  {
   "cell_type": "code",
   "execution_count": null,
   "metadata": {},
   "outputs": [],
   "source": []
  }
 ],
 "metadata": {
  "kernelspec": {
   "display_name": "tensorgpu",
   "language": "python",
   "name": "python3"
  },
  "language_info": {
   "codemirror_mode": {
    "name": "ipython",
    "version": 3
   },
   "file_extension": ".py",
   "mimetype": "text/x-python",
   "name": "python",
   "nbconvert_exporter": "python",
   "pygments_lexer": "ipython3",
   "version": "3.9.18"
  }
 },
 "nbformat": 4,
 "nbformat_minor": 2
}
